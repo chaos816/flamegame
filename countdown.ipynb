{
 "cells": [
  {
   "cell_type": "code",
   "execution_count": 26,
   "id": "9af65a9b-fefa-48d5-970d-bfe62e454b70",
   "metadata": {},
   "outputs": [
    {
     "name": "stdin",
     "output_type": "stream",
     "text": [
      "entrer une valeur:  99\n"
     ]
    },
    {
     "name": "stdout",
     "output_type": "stream",
     "text": [
      "stop1\n"
     ]
    }
   ],
   "source": [
    "import time\n",
    "\n",
    "def countdown(time_sec):\n",
    "    while time_sec:\n",
    "        mins, secs = divmod(time_sec, 60)\n",
    "        print('{:02d}:{:02d}'.format(mins, secs),end='\\r')\n",
    "        time.sleep(1)\n",
    "        time_sec -= 1\n",
    "\n",
    "    print(\"stop\")\n",
    "time_sec=int(input('entrer une valeur: '))\n",
    "countdown(time_sec)"
   ]
  },
  {
   "cell_type": "code",
   "execution_count": null,
   "id": "f38630a3-30db-45f0-8734-87854639f205",
   "metadata": {},
   "outputs": [],
   "source": [
    "e"
   ]
  }
 ],
 "metadata": {
  "kernelspec": {
   "display_name": "Python 3 (ipykernel)",
   "language": "python",
   "name": "python3"
  },
  "language_info": {
   "codemirror_mode": {
    "name": "ipython",
    "version": 3
   },
   "file_extension": ".py",
   "mimetype": "text/x-python",
   "name": "python",
   "nbconvert_exporter": "python",
   "pygments_lexer": "ipython3",
   "version": "3.9.7"
  }
 },
 "nbformat": 4,
 "nbformat_minor": 5
}
